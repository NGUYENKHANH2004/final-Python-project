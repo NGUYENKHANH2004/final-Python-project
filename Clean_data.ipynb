{
 "cells": [
  {
   "cell_type": "code",
   "execution_count": 1,
   "metadata": {},
   "outputs": [
    {
     "name": "stdout",
     "output_type": "stream",
     "text": [
      "Requirement already satisfied: pandas in c:\\users\\khanh\\appdata\\local\\packages\\pythonsoftwarefoundation.python.3.11_qbz5n2kfra8p0\\localcache\\local-packages\\python311\\site-packages (2.1.1)\n",
      "Requirement already satisfied: numpy>=1.23.2 in c:\\users\\khanh\\appdata\\local\\packages\\pythonsoftwarefoundation.python.3.11_qbz5n2kfra8p0\\localcache\\local-packages\\python311\\site-packages (from pandas) (1.26.0)\n",
      "Requirement already satisfied: python-dateutil>=2.8.2 in c:\\users\\khanh\\appdata\\local\\packages\\pythonsoftwarefoundation.python.3.11_qbz5n2kfra8p0\\localcache\\local-packages\\python311\\site-packages (from pandas) (2.8.2)\n",
      "Requirement already satisfied: pytz>=2020.1 in c:\\users\\khanh\\appdata\\local\\packages\\pythonsoftwarefoundation.python.3.11_qbz5n2kfra8p0\\localcache\\local-packages\\python311\\site-packages (from pandas) (2023.3.post1)\n",
      "Requirement already satisfied: tzdata>=2022.1 in c:\\users\\khanh\\appdata\\local\\packages\\pythonsoftwarefoundation.python.3.11_qbz5n2kfra8p0\\localcache\\local-packages\\python311\\site-packages (from pandas) (2023.3)\n",
      "Requirement already satisfied: six>=1.5 in c:\\users\\khanh\\appdata\\local\\packages\\pythonsoftwarefoundation.python.3.11_qbz5n2kfra8p0\\localcache\\local-packages\\python311\\site-packages (from python-dateutil>=2.8.2->pandas) (1.16.0)\n",
      "Note: you may need to restart the kernel to use updated packages.\n"
     ]
    },
    {
     "name": "stderr",
     "output_type": "stream",
     "text": [
      "\n",
      "[notice] A new release of pip is available: 23.2.1 -> 23.3.1\n",
      "[notice] To update, run: C:\\Users\\khanh\\AppData\\Local\\Microsoft\\WindowsApps\\PythonSoftwareFoundation.Python.3.11_qbz5n2kfra8p0\\python.exe -m pip install --upgrade pip\n"
     ]
    }
   ],
   "source": [
    "pip install pandas"
   ]
  },
  {
   "cell_type": "markdown",
   "metadata": {},
   "source": []
  },
  {
   "cell_type": "code",
   "execution_count": 2,
   "metadata": {},
   "outputs": [],
   "source": [
    "import pandas as pd\n",
    "import ast\n",
    "import os"
   ]
  },
  {
   "cell_type": "code",
   "execution_count": 3,
   "metadata": {},
   "outputs": [],
   "source": [
    "# Đọc dữ liệu từ file CSV\n",
    "file_path = 'Data/HondaVietnam.csv'\n",
    "df = pd.read_csv(file_path)"
   ]
  },
  {
   "cell_type": "code",
   "execution_count": 4,
   "metadata": {},
   "outputs": [],
   "source": [
    "# Hàm để chuyển giá trị từ reaction_count sang reactions dưới dạng từ điển\n",
    "def convert_to_dict(row):\n",
    "    if pd.isna(row['reactions']):\n",
    "        try:\n",
    "            # Nếu giá trị là chuỗi, xử lý chuỗi định dạng từ điển\n",
    "            if isinstance(row['reaction_count'], str):\n",
    "                reaction_count = ast.literal_eval(row['reaction_count'])\n",
    "            else:\n",
    "                # Nếu giá trị là số nguyên, sử dụng nó trực tiếp\n",
    "                reaction_count = {'like': row['reaction_count'], 'love': 0, 'wow': 0}\n",
    "\n",
    "            return {'like': reaction_count.get('like', 0),\n",
    "                    'love': reaction_count.get('love', 0),\n",
    "                    'wow': reaction_count.get('wow', 0)}\n",
    "        except (SyntaxError, ValueError):\n",
    "            # Xử lý nếu có lỗi khi đánh giá biểu thức Python\n",
    "            return {'like': 0, 'love': 0, 'wow': 0}\n",
    "    else:\n",
    "        return ast.literal_eval(row['reactions'])\n",
    "\n",
    "# Áp dụng hàm cho mỗi dòng trong dataframe\n",
    "df['reactions'] = df.apply(convert_to_dict, axis=1)\n"
   ]
  },
  {
   "cell_type": "code",
   "execution_count": 5,
   "metadata": {},
   "outputs": [],
   "source": [
    "# Thay thế giá trị bị thiếu ở cột 'text'\n",
    "df['text'] = df['text'].fillna('HondaVietnam' + df['post_id'].astype(str))\n",
    "# Thay thế giá trị bị thiếu ở cột 'post_text' bằng giá trị của cột 'text'\n",
    "df['post_text'] = df['post_text'].fillna(df['text'])\n",
    "# thay thế các giá trị bị thiếu ỏ cột shared_text\n",
    "df['shared_text'] = df['shared_text'].fillna(df['text'])\n",
    "#thay thế \n",
    "df['reactors'] = df['reactors'].fillna('[]')\n",
    "df['w3_fb_url'] = df['w3_fb_url'].fillna('https://www.facebook.com/HondaVietnam/posts/910761847075317')"
   ]
  },
  {
   "cell_type": "code",
   "execution_count": 6,
   "metadata": {},
   "outputs": [],
   "source": [
    "# Xóa cột thiếu data\n",
    "df = df.drop(columns=['original_text'])\n",
    "df = df.drop(columns=['video_duration_seconds'])\n",
    "df = df.drop(columns= ['video_height'])\n",
    "df = df.drop(columns= ['video_size_MB'])\n",
    "df = df.drop(columns= ['video_watches'])\n",
    "df = df.drop(columns= ['video_width'])"
   ]
  },
  {
   "cell_type": "code",
   "execution_count": 7,
   "metadata": {},
   "outputs": [],
   "source": [
    "# Đường dẫn đầy đủ của file đầu ra\n",
    "output_file_path = os.path.join('Data', 'HondaVietnam_cleaned.csv')\n",
    "\n",
    "# Lưu lại file sau khi làm sạch\n",
    "df.to_csv(output_file_path, index=False)"
   ]
  }
 ],
 "metadata": {
  "kernelspec": {
   "display_name": "Python 3",
   "language": "python",
   "name": "python3"
  },
  "language_info": {
   "codemirror_mode": {
    "name": "ipython",
    "version": 3
   },
   "file_extension": ".py",
   "mimetype": "text/x-python",
   "name": "python",
   "nbconvert_exporter": "python",
   "pygments_lexer": "ipython3",
   "version": "3.11.6"
  }
 },
 "nbformat": 4,
 "nbformat_minor": 2
}
